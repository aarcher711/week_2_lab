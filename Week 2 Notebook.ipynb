{
 "cells": [
  {
   "cell_type": "markdown",
   "id": "79e1b127-4fa6-4f7c-af3e-d6a4c5ee4b42",
   "metadata": {},
   "source": [
    "# Sample Jupyter Lab Code\n",
    "The follow code snippets were created using Jupyter Lab and Python. The exact same code snippets can also be run in Jupyter Notebook."
   ]
  },
  {
   "cell_type": "code",
   "execution_count": null,
   "id": "a9335b02-d265-460d-96c3-8e59fe426cad",
   "metadata": {},
   "outputs": [],
   "source": [
    "LAB 2 QUESTIONS:\n",
    "\n",
    "-What was the highest rated movie per year?\n",
    "\n",
    "0\tPatton\t1970-02-18\n",
    "1\tGet Carter\t1971-03-18\n",
    "2\tThe Godfather\t1972-03-24\n",
    "3\tTheater of Blood\t1973-04-05\n",
    "4\tThe Godfather: Part II\t1974-12-12\n",
    "5\tOne Flew Over the Cuckoo's Nest\t1975-11-19\n",
    "6\tRocky\t1976-12-03\n",
    "7\tThe Choirboys\t1977-12-23\n",
    "8\tThe Bad News Bears Go to Japan\t1978-06-30\n",
    "9\tAlien\t1979-06-22\n",
    "10\tThe Blue Lagoon\t1980-07-02\n",
    "11\tThe Cannonball Run\t1981-06-19\n",
    "12\tThe Toy\t1982-12-10\n",
    "13\tCurse of the Pink Panther\t1983-08-12\n",
    "14\tNinja III: The Domination\t1984-09-14\n",
    "15\tTurk 182\t1985-02-15\t\n",
    "16\tHaunted Honeymoon\t1986-07-25\n",
    "17\tHouse II: The Second Story\t1987-08-28\n",
    "18\tWho Framed Roger Rabbit\t1988-06-21\n",
    "19\tTroop Beverly Hills\t1989-03-24\n",
    "20\tMadhouse\t1990-02-16\n",
    "21\tThe NeverEnding Story II: The Next Chapter\t1991-02-08\n",
    "22\tEncino Man\t1992-05-22\n",
    "23\tAspen Extreme\t1993-01-22\n",
    "24\tTrapped in Paradise\t1994-12-02\n",
    "25\tHighlander: The Final Dimension\t1995-01-27\n",
    "26\tTwo If by Sea\t1996-01-12\n",
    "27\tSteel\t1997-08-15\n",
    "28\tSaving Private Ryan\t1998-07-24\n",
    "29\tMen Cry Bullets\t1999-10-22\n",
    "30\tWildflowers\t2000-09-01\n",
    "31\tInnocence\t2001-08-17\n",
    "32\tLove in the Time of Money\n",
    "33\tDon't Tempt Me\t2003-08-22\n",
    "34\tNoel\t2004-11-12\n",
    "35\tA Hole in My Heart\t2005-04-08\n",
    "36\tSurviving Eden\t2006-08-25\n",
    "37\tBadland\t2007-11-30\n",
    "38\tGarden Party\t2008-07-11\n",
    "39\tWhat Goes Up\t2009-05-29\n",
    "40\tBoxing Gym\t2010-10-22\t\n",
    "41\tBunraku\t2011-09-30\n",
    "42\tJust 45 Minutes from Broadway\t2012-10-12\n",
    "43\t1st Night\t2013-05-03\n",
    "44\tAfter\t2014-08-08\n",
    "45\tPaulo Coelho's Best Story\t2015-07-31\n",
    "46\tThe Unspoken\t2016-10-28\n",
    "47\tLiterally, Right Before Aaron\t2017-09-29\n",
    "48\tBlue Iguana\t2018-08-24\n",
    "49\tAfter\t2019-04-12\n",
    "50\tMonsoon\t2020-11-13\n",
    "51\tA Week Away\t2021-03-26\n",
    "52\tVengeance\t2022-07-29\n",
    "53\tA Radiant Girl\t2023-02-17\n",
    "54\tCora Bora\t2024-06-14\n",
    "\n",
    "--------------------------------------------\n",
    "-Which director has released the most number of movies over the years?\n",
    "Woody Allen\n",
    "\n",
    "-------------------------------------\n",
    "-Does a particular genre always have a high rating? If so, what genre?\n",
    "Drama"
   ]
  },
  {
   "cell_type": "markdown",
   "id": "b31447f2-a43c-43fc-96bc-94503b0f4a97",
   "metadata": {},
   "source": [
    "### Hello World Function"
   ]
  },
  {
   "cell_type": "code",
   "execution_count": 1,
   "id": "8b8cca9b-6308-496a-b0db-78039a96c59d",
   "metadata": {
    "tags": []
   },
   "outputs": [],
   "source": [
    "# Creating a function named, hello_world that takes in no arguments\n",
    "def hello_world():\n",
    "    print(\"Hello World!\")"
   ]
  },
  {
   "cell_type": "code",
   "execution_count": 2,
   "id": "47a9e45e-ee6f-4799-bb73-395bc32bc8cd",
   "metadata": {
    "tags": []
   },
   "outputs": [
    {
     "name": "stdout",
     "output_type": "stream",
     "text": [
      "Hello World!\n"
     ]
    }
   ],
   "source": [
    "# Run the hello_world function\n",
    "hello_world()"
   ]
  },
  {
   "cell_type": "markdown",
   "id": "08796549-aa57-44c5-92b9-baad6a04350b",
   "metadata": {},
   "source": [
    "### Names array"
   ]
  },
  {
   "cell_type": "code",
   "execution_count": 3,
   "id": "409bbec9-ef2a-4057-9635-d3982ca27d73",
   "metadata": {
    "tags": []
   },
   "outputs": [
    {
     "name": "stdout",
     "output_type": "stream",
     "text": [
      "Jim\n",
      "Tommy\n",
      "Susan\n",
      "John\n"
     ]
    }
   ],
   "source": [
    "# Creating a \"names\" array and printing each item in a for loop\n",
    "names = [\"Jim\", \"Tommy\", \"Susan\", \"John\"]\n",
    "\n",
    "for name in names:\n",
    "    print(name)"
   ]
  },
  {
   "cell_type": "markdown",
   "id": "717f612e-c7fa-4139-950f-4576f3e12c45",
   "metadata": {},
   "source": [
    "### Print index number and corresponding item in array"
   ]
  },
  {
   "cell_type": "code",
   "execution_count": 4,
   "id": "878988e4-8df0-4a24-9e83-c3b8b8bbedd1",
   "metadata": {
    "tags": []
   },
   "outputs": [
    {
     "name": "stdout",
     "output_type": "stream",
     "text": [
      "Index position: 0 Name: Jim\n",
      "Index position: 1 Name: Tommy\n",
      "Index position: 2 Name: Susan\n",
      "Index position: 3 Name: John\n"
     ]
    }
   ],
   "source": [
    "for idx, name in enumerate(names):\n",
    "    print(\"Index position: \" + str(idx), \"Name: \" + name)"
   ]
  }
 ],
 "metadata": {
  "kernelspec": {
   "display_name": "Python 3 (ipykernel)",
   "language": "python",
   "name": "python3"
  },
  "language_info": {
   "codemirror_mode": {
    "name": "ipython",
    "version": 3
   },
   "file_extension": ".py",
   "mimetype": "text/x-python",
   "name": "python",
   "nbconvert_exporter": "python",
   "pygments_lexer": "ipython3",
   "version": "3.12.4"
  }
 },
 "nbformat": 4,
 "nbformat_minor": 5
}

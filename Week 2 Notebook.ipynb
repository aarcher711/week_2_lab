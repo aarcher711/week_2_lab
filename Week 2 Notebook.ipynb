{
 "cells": [
  {
   "cell_type": "markdown",
   "id": "79e1b127-4fa6-4f7c-af3e-d6a4c5ee4b42",
   "metadata": {},
   "source": [
    "# Sample Jupyter Lab Code\n",
    "The follow code snippets were created using Jupyter Lab and Python. The exact same code snippets can also be run in Jupyter Notebook."
   ]
  },
  {
   "cell_type": "markdown",
   "id": "b31447f2-a43c-43fc-96bc-94503b0f4a97",
   "metadata": {},
   "source": [
    "### Hello World Function"
   ]
  },
  {
   "cell_type": "code",
   "execution_count": 1,
   "id": "8b8cca9b-6308-496a-b0db-78039a96c59d",
   "metadata": {
    "tags": []
   },
   "outputs": [],
   "source": [
    "# Creating a function named, hello_world that takes in no arguments\n",
    "def hello_world():\n",
    "    print(\"Hello World!\")"
   ]
  },
  {
   "cell_type": "code",
   "execution_count": 2,
   "id": "47a9e45e-ee6f-4799-bb73-395bc32bc8cd",
   "metadata": {
    "tags": []
   },
   "outputs": [
    {
     "name": "stdout",
     "output_type": "stream",
     "text": [
      "Hello World!\n"
     ]
    }
   ],
   "source": [
    "# Run the hello_world function\n",
    "hello_world()"
   ]
  },
  {
   "cell_type": "markdown",
   "id": "08796549-aa57-44c5-92b9-baad6a04350b",
   "metadata": {},
   "source": [
    "### Names array"
   ]
  },
  {
   "cell_type": "code",
   "execution_count": 3,
   "id": "409bbec9-ef2a-4057-9635-d3982ca27d73",
   "metadata": {
    "tags": []
   },
   "outputs": [
    {
     "name": "stdout",
     "output_type": "stream",
     "text": [
      "Jim\n",
      "Tommy\n",
      "Susan\n",
      "John\n"
     ]
    }
   ],
   "source": [
    "# Creating a \"names\" array and printing each item in a for loop\n",
    "names = [\"Jim\", \"Tommy\", \"Susan\", \"John\"]\n",
    "\n",
    "for name in names:\n",
    "    print(name)"
   ]
  },
  {
   "cell_type": "markdown",
   "id": "717f612e-c7fa-4139-950f-4576f3e12c45",
   "metadata": {},
   "source": [
    "### Print index number and corresponding item in array"
   ]
  },
  {
   "cell_type": "code",
   "execution_count": 4,
   "id": "878988e4-8df0-4a24-9e83-c3b8b8bbedd1",
   "metadata": {
    "tags": []
   },
   "outputs": [
    {
     "name": "stdout",
     "output_type": "stream",
     "text": [
      "Index position: 0 Name: Jim\n",
      "Index position: 1 Name: Tommy\n",
      "Index position: 2 Name: Susan\n",
      "Index position: 3 Name: John\n"
     ]
    }
   ],
   "source": [
    "for idx, name in enumerate(names):\n",
    "    print(\"Index position: \" + str(idx), \"Name: \" + name)"
   ]
  },
  {
   "cell_type": "code",
   "execution_count": null,
   "id": "a9335b02-d265-460d-96c3-8e59fe426cad",
   "metadata": {},
   "outputs": [],
   "source": []
  }
 ],
 "metadata": {
  "kernelspec": {
   "display_name": "Python 3 (ipykernel)",
   "language": "python",
   "name": "python3"
  },
  "language_info": {
   "codemirror_mode": {
    "name": "ipython",
    "version": 3
   },
   "file_extension": ".py",
   "mimetype": "text/x-python",
   "name": "python",
   "nbconvert_exporter": "python",
   "pygments_lexer": "ipython3",
   "version": "3.12.4"
  }
 },
 "nbformat": 4,
 "nbformat_minor": 5
}
